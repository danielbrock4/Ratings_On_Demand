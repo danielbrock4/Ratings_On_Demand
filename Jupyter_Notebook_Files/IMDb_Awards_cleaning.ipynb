{
 "cells": [
  {
   "cell_type": "code",
   "execution_count": 1,
   "metadata": {},
   "outputs": [],
   "source": [
    "# importing libraries to use\n",
    "import pandas as pd"
   ]
  },
  {
   "cell_type": "code",
   "execution_count": 3,
   "metadata": {},
   "outputs": [
    {
     "data": {
      "text/html": [
       "<div>\n",
       "<style scoped>\n",
       "    .dataframe tbody tr th:only-of-type {\n",
       "        vertical-align: middle;\n",
       "    }\n",
       "\n",
       "    .dataframe tbody tr th {\n",
       "        vertical-align: top;\n",
       "    }\n",
       "\n",
       "    .dataframe thead th {\n",
       "        text-align: right;\n",
       "    }\n",
       "</style>\n",
       "<table border=\"1\" class=\"dataframe\">\n",
       "  <thead>\n",
       "    <tr style=\"text-align: right;\">\n",
       "      <th></th>\n",
       "      <th>eventId</th>\n",
       "      <th>eventName</th>\n",
       "      <th>awardName</th>\n",
       "      <th>year</th>\n",
       "      <th>occurrence</th>\n",
       "      <th>winAnnouncementTime</th>\n",
       "      <th>categoryName</th>\n",
       "      <th>nomeneeNote</th>\n",
       "      <th>name</th>\n",
       "      <th>originalName</th>\n",
       "      <th>...</th>\n",
       "      <th>episodeNames</th>\n",
       "      <th>characterNames</th>\n",
       "      <th>isWinner</th>\n",
       "      <th>isPrimary</th>\n",
       "      <th>isSecondary</th>\n",
       "      <th>isPerson</th>\n",
       "      <th>isTitle</th>\n",
       "      <th>isCompany</th>\n",
       "      <th>const</th>\n",
       "      <th>notes</th>\n",
       "    </tr>\n",
       "  </thead>\n",
       "  <tbody>\n",
       "    <tr>\n",
       "      <th>0</th>\n",
       "      <td>ev0000263</td>\n",
       "      <td>French Syndicate of Cinema Critics</td>\n",
       "      <td>Critics Award</td>\n",
       "      <td>1992</td>\n",
       "      <td>1</td>\n",
       "      <td>NaN</td>\n",
       "      <td>Best Film</td>\n",
       "      <td>NaN</td>\n",
       "      <td>La belle noiseuse</td>\n",
       "      <td>NaN</td>\n",
       "      <td>...</td>\n",
       "      <td>NaN</td>\n",
       "      <td>NaN</td>\n",
       "      <td>True</td>\n",
       "      <td>True</td>\n",
       "      <td>False</td>\n",
       "      <td>False</td>\n",
       "      <td>True</td>\n",
       "      <td>False</td>\n",
       "      <td>tt0101428</td>\n",
       "      <td>NaN</td>\n",
       "    </tr>\n",
       "    <tr>\n",
       "      <th>1</th>\n",
       "      <td>ev0000263</td>\n",
       "      <td>French Syndicate of Cinema Critics</td>\n",
       "      <td>Critics Award</td>\n",
       "      <td>1992</td>\n",
       "      <td>1</td>\n",
       "      <td>NaN</td>\n",
       "      <td>Best Film</td>\n",
       "      <td>NaN</td>\n",
       "      <td>Jacques Rivette</td>\n",
       "      <td>NaN</td>\n",
       "      <td>...</td>\n",
       "      <td>NaN</td>\n",
       "      <td>NaN</td>\n",
       "      <td>True</td>\n",
       "      <td>False</td>\n",
       "      <td>True</td>\n",
       "      <td>True</td>\n",
       "      <td>False</td>\n",
       "      <td>False</td>\n",
       "      <td>nm0729626</td>\n",
       "      <td>NaN</td>\n",
       "    </tr>\n",
       "    <tr>\n",
       "      <th>2</th>\n",
       "      <td>ev0000263</td>\n",
       "      <td>French Syndicate of Cinema Critics</td>\n",
       "      <td>Critics Award</td>\n",
       "      <td>1992</td>\n",
       "      <td>1</td>\n",
       "      <td>NaN</td>\n",
       "      <td>Best Foreign Film</td>\n",
       "      <td>NaN</td>\n",
       "      <td>The Double Life of Véronique</td>\n",
       "      <td>La double vie de Véronique</td>\n",
       "      <td>...</td>\n",
       "      <td>NaN</td>\n",
       "      <td>NaN</td>\n",
       "      <td>True</td>\n",
       "      <td>True</td>\n",
       "      <td>False</td>\n",
       "      <td>False</td>\n",
       "      <td>True</td>\n",
       "      <td>False</td>\n",
       "      <td>tt0101765</td>\n",
       "      <td>Poland.</td>\n",
       "    </tr>\n",
       "    <tr>\n",
       "      <th>3</th>\n",
       "      <td>ev0000263</td>\n",
       "      <td>French Syndicate of Cinema Critics</td>\n",
       "      <td>Critics Award</td>\n",
       "      <td>1992</td>\n",
       "      <td>1</td>\n",
       "      <td>NaN</td>\n",
       "      <td>Best Foreign Film</td>\n",
       "      <td>NaN</td>\n",
       "      <td>Krzysztof Kieslowski</td>\n",
       "      <td>NaN</td>\n",
       "      <td>...</td>\n",
       "      <td>NaN</td>\n",
       "      <td>NaN</td>\n",
       "      <td>True</td>\n",
       "      <td>False</td>\n",
       "      <td>True</td>\n",
       "      <td>True</td>\n",
       "      <td>False</td>\n",
       "      <td>False</td>\n",
       "      <td>nm0001425</td>\n",
       "      <td>Poland.</td>\n",
       "    </tr>\n",
       "    <tr>\n",
       "      <th>4</th>\n",
       "      <td>ev0000263</td>\n",
       "      <td>French Syndicate of Cinema Critics</td>\n",
       "      <td>Critics Award</td>\n",
       "      <td>1992</td>\n",
       "      <td>1</td>\n",
       "      <td>NaN</td>\n",
       "      <td>Best Short</td>\n",
       "      <td>NaN</td>\n",
       "      <td>Le petit chat est mort</td>\n",
       "      <td>NaN</td>\n",
       "      <td>...</td>\n",
       "      <td>NaN</td>\n",
       "      <td>NaN</td>\n",
       "      <td>True</td>\n",
       "      <td>True</td>\n",
       "      <td>False</td>\n",
       "      <td>False</td>\n",
       "      <td>True</td>\n",
       "      <td>False</td>\n",
       "      <td>tt0195135</td>\n",
       "      <td>NaN</td>\n",
       "    </tr>\n",
       "  </tbody>\n",
       "</table>\n",
       "<p>5 rows × 21 columns</p>\n",
       "</div>"
      ],
      "text/plain": [
       "     eventId                           eventName      awardName  year  \\\n",
       "0  ev0000263  French Syndicate of Cinema Critics  Critics Award  1992   \n",
       "1  ev0000263  French Syndicate of Cinema Critics  Critics Award  1992   \n",
       "2  ev0000263  French Syndicate of Cinema Critics  Critics Award  1992   \n",
       "3  ev0000263  French Syndicate of Cinema Critics  Critics Award  1992   \n",
       "4  ev0000263  French Syndicate of Cinema Critics  Critics Award  1992   \n",
       "\n",
       "   occurrence  winAnnouncementTime       categoryName nomeneeNote  \\\n",
       "0           1                  NaN          Best Film         NaN   \n",
       "1           1                  NaN          Best Film         NaN   \n",
       "2           1                  NaN  Best Foreign Film         NaN   \n",
       "3           1                  NaN  Best Foreign Film         NaN   \n",
       "4           1                  NaN         Best Short         NaN   \n",
       "\n",
       "                           name                originalName  ... episodeNames  \\\n",
       "0             La belle noiseuse                         NaN  ...          NaN   \n",
       "1               Jacques Rivette                         NaN  ...          NaN   \n",
       "2  The Double Life of Véronique  La double vie de Véronique  ...          NaN   \n",
       "3          Krzysztof Kieslowski                         NaN  ...          NaN   \n",
       "4        Le petit chat est mort                         NaN  ...          NaN   \n",
       "\n",
       "  characterNames isWinner isPrimary isSecondary isPerson  isTitle  isCompany  \\\n",
       "0            NaN     True      True       False    False     True      False   \n",
       "1            NaN     True     False        True     True    False      False   \n",
       "2            NaN     True      True       False    False     True      False   \n",
       "3            NaN     True     False        True     True    False      False   \n",
       "4            NaN     True      True       False    False     True      False   \n",
       "\n",
       "       const    notes  \n",
       "0  tt0101428      NaN  \n",
       "1  nm0729626      NaN  \n",
       "2  tt0101765  Poland.  \n",
       "3  nm0001425  Poland.  \n",
       "4  tt0195135      NaN  \n",
       "\n",
       "[5 rows x 21 columns]"
      ]
     },
     "execution_count": 3,
     "metadata": {},
     "output_type": "execute_result"
    }
   ],
   "source": [
    "# Create the path to IMDB Names\n",
    "resources_folder = r'Resources/'\n",
    "IMDb_file = resources_folder + 'IMDb_Awards.csv'\n",
    "# Reading the csv as a Panda dataframe\n",
    "IMDb_Awards_df = pd.read_csv(IMDb_file, low_memory=False)\n",
    "IMDb_Awards_df.head()"
   ]
  },
  {
   "cell_type": "code",
   "execution_count": 4,
   "metadata": {},
   "outputs": [
    {
     "data": {
      "text/plain": [
       "['eventId',\n",
       " 'eventName',\n",
       " 'awardName',\n",
       " 'year',\n",
       " 'occurrence',\n",
       " 'winAnnouncementTime',\n",
       " 'categoryName',\n",
       " 'nomeneeNote',\n",
       " 'name',\n",
       " 'originalName',\n",
       " 'songNames',\n",
       " 'episodeNames',\n",
       " 'characterNames',\n",
       " 'isWinner',\n",
       " 'isPrimary',\n",
       " 'isSecondary',\n",
       " 'isPerson',\n",
       " 'isTitle',\n",
       " 'isCompany',\n",
       " 'const',\n",
       " 'notes']"
      ]
     },
     "execution_count": 4,
     "metadata": {},
     "output_type": "execute_result"
    }
   ],
   "source": [
    "# check the columns\n",
    "IMDb_Awards_df.columns.tolist()"
   ]
  },
  {
   "cell_type": "code",
   "execution_count": 5,
   "metadata": {},
   "outputs": [
    {
     "data": {
      "text/html": [
       "<div>\n",
       "<style scoped>\n",
       "    .dataframe tbody tr th:only-of-type {\n",
       "        vertical-align: middle;\n",
       "    }\n",
       "\n",
       "    .dataframe tbody tr th {\n",
       "        vertical-align: top;\n",
       "    }\n",
       "\n",
       "    .dataframe thead th {\n",
       "        text-align: right;\n",
       "    }\n",
       "</style>\n",
       "<table border=\"1\" class=\"dataframe\">\n",
       "  <thead>\n",
       "    <tr style=\"text-align: right;\">\n",
       "      <th></th>\n",
       "      <th>eventId</th>\n",
       "      <th>eventName</th>\n",
       "      <th>awardName</th>\n",
       "      <th>year</th>\n",
       "      <th>categoryName</th>\n",
       "      <th>name</th>\n",
       "      <th>isWinner</th>\n",
       "      <th>const</th>\n",
       "    </tr>\n",
       "  </thead>\n",
       "  <tbody>\n",
       "    <tr>\n",
       "      <th>0</th>\n",
       "      <td>ev0000263</td>\n",
       "      <td>French Syndicate of Cinema Critics</td>\n",
       "      <td>Critics Award</td>\n",
       "      <td>1992</td>\n",
       "      <td>Best Film</td>\n",
       "      <td>La belle noiseuse</td>\n",
       "      <td>True</td>\n",
       "      <td>tt0101428</td>\n",
       "    </tr>\n",
       "    <tr>\n",
       "      <th>1</th>\n",
       "      <td>ev0000263</td>\n",
       "      <td>French Syndicate of Cinema Critics</td>\n",
       "      <td>Critics Award</td>\n",
       "      <td>1992</td>\n",
       "      <td>Best Film</td>\n",
       "      <td>Jacques Rivette</td>\n",
       "      <td>True</td>\n",
       "      <td>nm0729626</td>\n",
       "    </tr>\n",
       "    <tr>\n",
       "      <th>2</th>\n",
       "      <td>ev0000263</td>\n",
       "      <td>French Syndicate of Cinema Critics</td>\n",
       "      <td>Critics Award</td>\n",
       "      <td>1992</td>\n",
       "      <td>Best Foreign Film</td>\n",
       "      <td>The Double Life of Véronique</td>\n",
       "      <td>True</td>\n",
       "      <td>tt0101765</td>\n",
       "    </tr>\n",
       "    <tr>\n",
       "      <th>3</th>\n",
       "      <td>ev0000263</td>\n",
       "      <td>French Syndicate of Cinema Critics</td>\n",
       "      <td>Critics Award</td>\n",
       "      <td>1992</td>\n",
       "      <td>Best Foreign Film</td>\n",
       "      <td>Krzysztof Kieslowski</td>\n",
       "      <td>True</td>\n",
       "      <td>nm0001425</td>\n",
       "    </tr>\n",
       "    <tr>\n",
       "      <th>4</th>\n",
       "      <td>ev0000263</td>\n",
       "      <td>French Syndicate of Cinema Critics</td>\n",
       "      <td>Critics Award</td>\n",
       "      <td>1992</td>\n",
       "      <td>Best Short</td>\n",
       "      <td>Le petit chat est mort</td>\n",
       "      <td>True</td>\n",
       "      <td>tt0195135</td>\n",
       "    </tr>\n",
       "  </tbody>\n",
       "</table>\n",
       "</div>"
      ],
      "text/plain": [
       "     eventId                           eventName      awardName  year  \\\n",
       "0  ev0000263  French Syndicate of Cinema Critics  Critics Award  1992   \n",
       "1  ev0000263  French Syndicate of Cinema Critics  Critics Award  1992   \n",
       "2  ev0000263  French Syndicate of Cinema Critics  Critics Award  1992   \n",
       "3  ev0000263  French Syndicate of Cinema Critics  Critics Award  1992   \n",
       "4  ev0000263  French Syndicate of Cinema Critics  Critics Award  1992   \n",
       "\n",
       "        categoryName                          name isWinner      const  \n",
       "0          Best Film             La belle noiseuse     True  tt0101428  \n",
       "1          Best Film               Jacques Rivette     True  nm0729626  \n",
       "2  Best Foreign Film  The Double Life of Véronique     True  tt0101765  \n",
       "3  Best Foreign Film          Krzysztof Kieslowski     True  nm0001425  \n",
       "4         Best Short        Le petit chat est mort     True  tt0195135  "
      ]
     },
     "execution_count": 5,
     "metadata": {},
     "output_type": "execute_result"
    }
   ],
   "source": [
    "# keep only the ones we are going to use\n",
    "IMDb_Awards_df = IMDb_Awards_df[\n",
    "['eventId',\n",
    " 'eventName',\n",
    " 'awardName',\n",
    " 'year',\n",
    " 'categoryName',\n",
    " 'name',\n",
    " 'isWinner',\n",
    " 'const'\n",
    " ]\n",
    "]\n",
    "IMDb_Awards_df.head()"
   ]
  },
  {
   "cell_type": "code",
   "execution_count": 7,
   "metadata": {},
   "outputs": [
    {
     "data": {
      "text/plain": [
       "eventId         2158525\n",
       "eventName       2158525\n",
       "awardName       2157737\n",
       "year            2158525\n",
       "categoryName    1910974\n",
       "name            2153508\n",
       "isWinner        2157740\n",
       "const           2153508\n",
       "dtype: int64"
      ]
     },
     "execution_count": 7,
     "metadata": {},
     "output_type": "execute_result"
    }
   ],
   "source": [
    "# how many records do we have\n",
    "IMDb_Awards_df.count()"
   ]
  },
  {
   "cell_type": "code",
   "execution_count": 8,
   "metadata": {},
   "outputs": [],
   "source": [
    "# the field const contains the key for the table name and table movies\n",
    "# and there is a diff or records here so we can clean this df base on \n",
    "# the const column"
   ]
  },
  {
   "cell_type": "code",
   "execution_count": 9,
   "metadata": {},
   "outputs": [
    {
     "data": {
      "text/plain": [
       "eventId              0\n",
       "eventName            0\n",
       "awardName          788\n",
       "year                 0\n",
       "categoryName    247551\n",
       "name              5017\n",
       "isWinner           785\n",
       "const             5017\n",
       "dtype: int64"
      ]
     },
     "execution_count": 9,
     "metadata": {},
     "output_type": "execute_result"
    }
   ],
   "source": [
    "# Check for null under an entire DataFrame \n",
    "IMDb_Awards_df.isnull().sum()"
   ]
  },
  {
   "cell_type": "code",
   "execution_count": 10,
   "metadata": {},
   "outputs": [],
   "source": [
    "# drop those null rows\n",
    "not_null_df = IMDb_Awards_df[IMDb_Awards_df['const'].notnull()]\n"
   ]
  },
  {
   "cell_type": "code",
   "execution_count": 11,
   "metadata": {},
   "outputs": [
    {
     "data": {
      "text/plain": [
       "eventId              0\n",
       "eventName            0\n",
       "awardName            3\n",
       "year                 0\n",
       "categoryName    245253\n",
       "name                 0\n",
       "isWinner             0\n",
       "const                0\n",
       "dtype: int64"
      ]
     },
     "execution_count": 11,
     "metadata": {},
     "output_type": "execute_result"
    }
   ],
   "source": [
    "# how many values are null and on which columns?\n",
    "not_null_df.isnull().sum()"
   ]
  },
  {
   "cell_type": "code",
   "execution_count": 13,
   "metadata": {},
   "outputs": [],
   "source": [
    "# we have values on the const col and on the iswinner col "
   ]
  },
  {
   "cell_type": "code",
   "execution_count": 14,
   "metadata": {},
   "outputs": [
    {
     "data": {
      "text/html": [
       "<div>\n",
       "<style scoped>\n",
       "    .dataframe tbody tr th:only-of-type {\n",
       "        vertical-align: middle;\n",
       "    }\n",
       "\n",
       "    .dataframe tbody tr th {\n",
       "        vertical-align: top;\n",
       "    }\n",
       "\n",
       "    .dataframe thead th {\n",
       "        text-align: right;\n",
       "    }\n",
       "</style>\n",
       "<table border=\"1\" class=\"dataframe\">\n",
       "  <thead>\n",
       "    <tr style=\"text-align: right;\">\n",
       "      <th></th>\n",
       "      <th>eventId</th>\n",
       "      <th>eventName</th>\n",
       "      <th>awardName</th>\n",
       "      <th>year</th>\n",
       "      <th>name</th>\n",
       "      <th>isWinner</th>\n",
       "      <th>const</th>\n",
       "    </tr>\n",
       "  </thead>\n",
       "  <tbody>\n",
       "    <tr>\n",
       "      <th>0</th>\n",
       "      <td>ev0000263</td>\n",
       "      <td>French Syndicate of Cinema Critics</td>\n",
       "      <td>Critics Award</td>\n",
       "      <td>1992</td>\n",
       "      <td>La belle noiseuse</td>\n",
       "      <td>True</td>\n",
       "      <td>tt0101428</td>\n",
       "    </tr>\n",
       "    <tr>\n",
       "      <th>1</th>\n",
       "      <td>ev0000263</td>\n",
       "      <td>French Syndicate of Cinema Critics</td>\n",
       "      <td>Critics Award</td>\n",
       "      <td>1992</td>\n",
       "      <td>Jacques Rivette</td>\n",
       "      <td>True</td>\n",
       "      <td>nm0729626</td>\n",
       "    </tr>\n",
       "    <tr>\n",
       "      <th>2</th>\n",
       "      <td>ev0000263</td>\n",
       "      <td>French Syndicate of Cinema Critics</td>\n",
       "      <td>Critics Award</td>\n",
       "      <td>1992</td>\n",
       "      <td>The Double Life of Véronique</td>\n",
       "      <td>True</td>\n",
       "      <td>tt0101765</td>\n",
       "    </tr>\n",
       "    <tr>\n",
       "      <th>3</th>\n",
       "      <td>ev0000263</td>\n",
       "      <td>French Syndicate of Cinema Critics</td>\n",
       "      <td>Critics Award</td>\n",
       "      <td>1992</td>\n",
       "      <td>Krzysztof Kieslowski</td>\n",
       "      <td>True</td>\n",
       "      <td>nm0001425</td>\n",
       "    </tr>\n",
       "    <tr>\n",
       "      <th>4</th>\n",
       "      <td>ev0000263</td>\n",
       "      <td>French Syndicate of Cinema Critics</td>\n",
       "      <td>Critics Award</td>\n",
       "      <td>1992</td>\n",
       "      <td>Le petit chat est mort</td>\n",
       "      <td>True</td>\n",
       "      <td>tt0195135</td>\n",
       "    </tr>\n",
       "  </tbody>\n",
       "</table>\n",
       "</div>"
      ],
      "text/plain": [
       "     eventId                           eventName      awardName  year  \\\n",
       "0  ev0000263  French Syndicate of Cinema Critics  Critics Award  1992   \n",
       "1  ev0000263  French Syndicate of Cinema Critics  Critics Award  1992   \n",
       "2  ev0000263  French Syndicate of Cinema Critics  Critics Award  1992   \n",
       "3  ev0000263  French Syndicate of Cinema Critics  Critics Award  1992   \n",
       "4  ev0000263  French Syndicate of Cinema Critics  Critics Award  1992   \n",
       "\n",
       "                           name isWinner      const  \n",
       "0             La belle noiseuse     True  tt0101428  \n",
       "1               Jacques Rivette     True  nm0729626  \n",
       "2  The Double Life of Véronique     True  tt0101765  \n",
       "3          Krzysztof Kieslowski     True  nm0001425  \n",
       "4        Le petit chat est mort     True  tt0195135  "
      ]
     },
     "execution_count": 14,
     "metadata": {},
     "output_type": "execute_result"
    }
   ],
   "source": [
    "# we might not need categoryName\n",
    "not_null_df = not_null_df[\n",
    "['eventId',\n",
    " 'eventName',\n",
    " 'awardName',\n",
    " 'year',\n",
    " 'name',\n",
    " 'isWinner',\n",
    " 'const'\n",
    " ]\n",
    "]\n",
    "not_null_df.head()"
   ]
  },
  {
   "cell_type": "code",
   "execution_count": 15,
   "metadata": {},
   "outputs": [
    {
     "data": {
      "text/plain": [
       "eventId      0\n",
       "eventName    0\n",
       "awardName    3\n",
       "year         0\n",
       "name         0\n",
       "isWinner     0\n",
       "const        0\n",
       "dtype: int64"
      ]
     },
     "execution_count": 15,
     "metadata": {},
     "output_type": "execute_result"
    }
   ],
   "source": [
    "# how many values are null and on which columns?\n",
    "not_null_df.isnull().sum()"
   ]
  },
  {
   "cell_type": "code",
   "execution_count": 16,
   "metadata": {},
   "outputs": [
    {
     "data": {
      "text/plain": [
       "eventId      2153508\n",
       "eventName    2153508\n",
       "awardName    2153505\n",
       "year         2153508\n",
       "name         2153508\n",
       "isWinner     2153508\n",
       "const        2153508\n",
       "dtype: int64"
      ]
     },
     "execution_count": 16,
     "metadata": {},
     "output_type": "execute_result"
    }
   ],
   "source": [
    "# how many records do we have\n",
    "not_null_df.count()"
   ]
  },
  {
   "cell_type": "code",
   "execution_count": 17,
   "metadata": {},
   "outputs": [],
   "source": [
    "# save final dataframe to a csv file\n",
    "not_null_df.to_csv(resources_folder + 'clean_Awards.csv', index=False)"
   ]
  }
 ],
 "metadata": {
  "interpreter": {
   "hash": "1bdf70f164539eb444895ba321469f2b2fb207bd2df6cb03c398dc8f57ca5ce9"
  },
  "kernelspec": {
   "display_name": "Python 3.9.5 64-bit",
   "name": "python3"
  },
  "language_info": {
   "codemirror_mode": {
    "name": "ipython",
    "version": 3
   },
   "file_extension": ".py",
   "mimetype": "text/x-python",
   "name": "python",
   "nbconvert_exporter": "python",
   "pygments_lexer": "ipython3",
   "version": "3.9.5"
  },
  "orig_nbformat": 4
 },
 "nbformat": 4,
 "nbformat_minor": 2
}
