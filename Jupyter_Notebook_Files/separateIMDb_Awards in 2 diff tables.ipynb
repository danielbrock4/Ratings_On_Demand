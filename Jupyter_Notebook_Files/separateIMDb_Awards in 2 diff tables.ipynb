{
 "cells": [
  {
   "cell_type": "code",
   "execution_count": 1,
   "metadata": {},
   "outputs": [],
   "source": [
    "# importing libraries to use\n",
    "import pandas as pd"
   ]
  },
  {
   "cell_type": "code",
   "execution_count": 3,
   "metadata": {},
   "outputs": [
    {
     "data": {
      "text/html": [
       "<div>\n",
       "<style scoped>\n",
       "    .dataframe tbody tr th:only-of-type {\n",
       "        vertical-align: middle;\n",
       "    }\n",
       "\n",
       "    .dataframe tbody tr th {\n",
       "        vertical-align: top;\n",
       "    }\n",
       "\n",
       "    .dataframe thead th {\n",
       "        text-align: right;\n",
       "    }\n",
       "</style>\n",
       "<table border=\"1\" class=\"dataframe\">\n",
       "  <thead>\n",
       "    <tr style=\"text-align: right;\">\n",
       "      <th></th>\n",
       "      <th>eventId</th>\n",
       "      <th>eventName</th>\n",
       "      <th>awardName</th>\n",
       "      <th>year</th>\n",
       "      <th>name</th>\n",
       "      <th>isWinner</th>\n",
       "      <th>const</th>\n",
       "    </tr>\n",
       "  </thead>\n",
       "  <tbody>\n",
       "    <tr>\n",
       "      <th>0</th>\n",
       "      <td>ev0000263</td>\n",
       "      <td>French Syndicate of Cinema Critics</td>\n",
       "      <td>Critics Award</td>\n",
       "      <td>1992</td>\n",
       "      <td>La belle noiseuse</td>\n",
       "      <td>True</td>\n",
       "      <td>tt0101428</td>\n",
       "    </tr>\n",
       "    <tr>\n",
       "      <th>1</th>\n",
       "      <td>ev0000263</td>\n",
       "      <td>French Syndicate of Cinema Critics</td>\n",
       "      <td>Critics Award</td>\n",
       "      <td>1992</td>\n",
       "      <td>Jacques Rivette</td>\n",
       "      <td>True</td>\n",
       "      <td>nm0729626</td>\n",
       "    </tr>\n",
       "    <tr>\n",
       "      <th>2</th>\n",
       "      <td>ev0000263</td>\n",
       "      <td>French Syndicate of Cinema Critics</td>\n",
       "      <td>Critics Award</td>\n",
       "      <td>1992</td>\n",
       "      <td>The Double Life of Véronique</td>\n",
       "      <td>True</td>\n",
       "      <td>tt0101765</td>\n",
       "    </tr>\n",
       "    <tr>\n",
       "      <th>3</th>\n",
       "      <td>ev0000263</td>\n",
       "      <td>French Syndicate of Cinema Critics</td>\n",
       "      <td>Critics Award</td>\n",
       "      <td>1992</td>\n",
       "      <td>Krzysztof Kieslowski</td>\n",
       "      <td>True</td>\n",
       "      <td>nm0001425</td>\n",
       "    </tr>\n",
       "    <tr>\n",
       "      <th>4</th>\n",
       "      <td>ev0000263</td>\n",
       "      <td>French Syndicate of Cinema Critics</td>\n",
       "      <td>Critics Award</td>\n",
       "      <td>1992</td>\n",
       "      <td>Le petit chat est mort</td>\n",
       "      <td>True</td>\n",
       "      <td>tt0195135</td>\n",
       "    </tr>\n",
       "  </tbody>\n",
       "</table>\n",
       "</div>"
      ],
      "text/plain": [
       "     eventId                           eventName      awardName  year  \\\n",
       "0  ev0000263  French Syndicate of Cinema Critics  Critics Award  1992   \n",
       "1  ev0000263  French Syndicate of Cinema Critics  Critics Award  1992   \n",
       "2  ev0000263  French Syndicate of Cinema Critics  Critics Award  1992   \n",
       "3  ev0000263  French Syndicate of Cinema Critics  Critics Award  1992   \n",
       "4  ev0000263  French Syndicate of Cinema Critics  Critics Award  1992   \n",
       "\n",
       "                           name  isWinner      const  \n",
       "0             La belle noiseuse      True  tt0101428  \n",
       "1               Jacques Rivette      True  nm0729626  \n",
       "2  The Double Life of Véronique      True  tt0101765  \n",
       "3          Krzysztof Kieslowski      True  nm0001425  \n",
       "4        Le petit chat est mort      True  tt0195135  "
      ]
     },
     "execution_count": 3,
     "metadata": {},
     "output_type": "execute_result"
    }
   ],
   "source": [
    "# Create the path to IMDB Names\n",
    "resources_folder = r'../resources/'\n",
    "IMDb_file = resources_folder + 'clean_Awards.csv'\n",
    "# Reading the csv as a Panda dataframe\n",
    "df = pd.read_csv(IMDb_file, low_memory=False)\n",
    "df.head()"
   ]
  },
  {
   "cell_type": "code",
   "execution_count": 5,
   "metadata": {},
   "outputs": [
    {
     "data": {
      "text/html": [
       "<div>\n",
       "<style scoped>\n",
       "    .dataframe tbody tr th:only-of-type {\n",
       "        vertical-align: middle;\n",
       "    }\n",
       "\n",
       "    .dataframe tbody tr th {\n",
       "        vertical-align: top;\n",
       "    }\n",
       "\n",
       "    .dataframe thead th {\n",
       "        text-align: right;\n",
       "    }\n",
       "</style>\n",
       "<table border=\"1\" class=\"dataframe\">\n",
       "  <thead>\n",
       "    <tr style=\"text-align: right;\">\n",
       "      <th></th>\n",
       "      <th>eventId</th>\n",
       "      <th>eventName</th>\n",
       "      <th>awardName</th>\n",
       "      <th>year</th>\n",
       "      <th>name</th>\n",
       "      <th>isWinner</th>\n",
       "      <th>const</th>\n",
       "    </tr>\n",
       "  </thead>\n",
       "  <tbody>\n",
       "    <tr>\n",
       "      <th>0</th>\n",
       "      <td>ev0000263</td>\n",
       "      <td>French Syndicate of Cinema Critics</td>\n",
       "      <td>Critics Award</td>\n",
       "      <td>1992</td>\n",
       "      <td>La belle noiseuse</td>\n",
       "      <td>True</td>\n",
       "      <td>tt0101428</td>\n",
       "    </tr>\n",
       "    <tr>\n",
       "      <th>2</th>\n",
       "      <td>ev0000263</td>\n",
       "      <td>French Syndicate of Cinema Critics</td>\n",
       "      <td>Critics Award</td>\n",
       "      <td>1992</td>\n",
       "      <td>The Double Life of Véronique</td>\n",
       "      <td>True</td>\n",
       "      <td>tt0101765</td>\n",
       "    </tr>\n",
       "    <tr>\n",
       "      <th>4</th>\n",
       "      <td>ev0000263</td>\n",
       "      <td>French Syndicate of Cinema Critics</td>\n",
       "      <td>Critics Award</td>\n",
       "      <td>1992</td>\n",
       "      <td>Le petit chat est mort</td>\n",
       "      <td>True</td>\n",
       "      <td>tt0195135</td>\n",
       "    </tr>\n",
       "    <tr>\n",
       "      <th>6</th>\n",
       "      <td>ev0000170</td>\n",
       "      <td>Cinanima</td>\n",
       "      <td>Grand Prize</td>\n",
       "      <td>2007</td>\n",
       "      <td>Le tueur de Montmartre</td>\n",
       "      <td>True</td>\n",
       "      <td>tt1337718</td>\n",
       "    </tr>\n",
       "    <tr>\n",
       "      <th>8</th>\n",
       "      <td>ev0000170</td>\n",
       "      <td>Cinanima</td>\n",
       "      <td>Grand Prize</td>\n",
       "      <td>2007</td>\n",
       "      <td>Madame Tutli-Putli</td>\n",
       "      <td>True</td>\n",
       "      <td>tt1029440</td>\n",
       "    </tr>\n",
       "  </tbody>\n",
       "</table>\n",
       "</div>"
      ],
      "text/plain": [
       "     eventId                           eventName      awardName  year  \\\n",
       "0  ev0000263  French Syndicate of Cinema Critics  Critics Award  1992   \n",
       "2  ev0000263  French Syndicate of Cinema Critics  Critics Award  1992   \n",
       "4  ev0000263  French Syndicate of Cinema Critics  Critics Award  1992   \n",
       "6  ev0000170                            Cinanima    Grand Prize  2007   \n",
       "8  ev0000170                            Cinanima    Grand Prize  2007   \n",
       "\n",
       "                           name  isWinner      const  \n",
       "0             La belle noiseuse      True  tt0101428  \n",
       "2  The Double Life of Véronique      True  tt0101765  \n",
       "4        Le petit chat est mort      True  tt0195135  \n",
       "6        Le tueur de Montmartre      True  tt1337718  \n",
       "8            Madame Tutli-Putli      True  tt1029440  "
      ]
     },
     "execution_count": 5,
     "metadata": {},
     "output_type": "execute_result"
    }
   ],
   "source": [
    "# filter the df for conts containing title\n",
    "df_titles = df[df['const'].str.contains('tt')]\n",
    "df_titles.head()"
   ]
  },
  {
   "cell_type": "code",
   "execution_count": 6,
   "metadata": {},
   "outputs": [
    {
     "data": {
      "text/html": [
       "<div>\n",
       "<style scoped>\n",
       "    .dataframe tbody tr th:only-of-type {\n",
       "        vertical-align: middle;\n",
       "    }\n",
       "\n",
       "    .dataframe tbody tr th {\n",
       "        vertical-align: top;\n",
       "    }\n",
       "\n",
       "    .dataframe thead th {\n",
       "        text-align: right;\n",
       "    }\n",
       "</style>\n",
       "<table border=\"1\" class=\"dataframe\">\n",
       "  <thead>\n",
       "    <tr style=\"text-align: right;\">\n",
       "      <th></th>\n",
       "      <th>eventId</th>\n",
       "      <th>eventName</th>\n",
       "      <th>awardName</th>\n",
       "      <th>year</th>\n",
       "      <th>name</th>\n",
       "      <th>isWinner</th>\n",
       "      <th>const</th>\n",
       "    </tr>\n",
       "  </thead>\n",
       "  <tbody>\n",
       "    <tr>\n",
       "      <th>1</th>\n",
       "      <td>ev0000263</td>\n",
       "      <td>French Syndicate of Cinema Critics</td>\n",
       "      <td>Critics Award</td>\n",
       "      <td>1992</td>\n",
       "      <td>Jacques Rivette</td>\n",
       "      <td>True</td>\n",
       "      <td>nm0729626</td>\n",
       "    </tr>\n",
       "    <tr>\n",
       "      <th>3</th>\n",
       "      <td>ev0000263</td>\n",
       "      <td>French Syndicate of Cinema Critics</td>\n",
       "      <td>Critics Award</td>\n",
       "      <td>1992</td>\n",
       "      <td>Krzysztof Kieslowski</td>\n",
       "      <td>True</td>\n",
       "      <td>nm0001425</td>\n",
       "    </tr>\n",
       "    <tr>\n",
       "      <th>5</th>\n",
       "      <td>ev0000263</td>\n",
       "      <td>French Syndicate of Cinema Critics</td>\n",
       "      <td>Critics Award</td>\n",
       "      <td>1992</td>\n",
       "      <td>Fejria Deliba</td>\n",
       "      <td>True</td>\n",
       "      <td>nm0217148</td>\n",
       "    </tr>\n",
       "    <tr>\n",
       "      <th>7</th>\n",
       "      <td>ev0000170</td>\n",
       "      <td>Cinanima</td>\n",
       "      <td>Grand Prize</td>\n",
       "      <td>2007</td>\n",
       "      <td>Borislav Sajtinac</td>\n",
       "      <td>True</td>\n",
       "      <td>nm1196263</td>\n",
       "    </tr>\n",
       "    <tr>\n",
       "      <th>9</th>\n",
       "      <td>ev0000170</td>\n",
       "      <td>Cinanima</td>\n",
       "      <td>Grand Prize</td>\n",
       "      <td>2007</td>\n",
       "      <td>Chris Lavis</td>\n",
       "      <td>True</td>\n",
       "      <td>nm2650321</td>\n",
       "    </tr>\n",
       "  </tbody>\n",
       "</table>\n",
       "</div>"
      ],
      "text/plain": [
       "     eventId                           eventName      awardName  year  \\\n",
       "1  ev0000263  French Syndicate of Cinema Critics  Critics Award  1992   \n",
       "3  ev0000263  French Syndicate of Cinema Critics  Critics Award  1992   \n",
       "5  ev0000263  French Syndicate of Cinema Critics  Critics Award  1992   \n",
       "7  ev0000170                            Cinanima    Grand Prize  2007   \n",
       "9  ev0000170                            Cinanima    Grand Prize  2007   \n",
       "\n",
       "                   name  isWinner      const  \n",
       "1       Jacques Rivette      True  nm0729626  \n",
       "3  Krzysztof Kieslowski      True  nm0001425  \n",
       "5         Fejria Deliba      True  nm0217148  \n",
       "7     Borislav Sajtinac      True  nm1196263  \n",
       "9           Chris Lavis      True  nm2650321  "
      ]
     },
     "execution_count": 6,
     "metadata": {},
     "output_type": "execute_result"
    }
   ],
   "source": [
    "# filter the df for conts containing names\n",
    "df_names = df[df['const'].str.contains('nm')]\n",
    "df_names.head()"
   ]
  },
  {
   "cell_type": "code",
   "execution_count": 7,
   "metadata": {},
   "outputs": [
    {
     "data": {
      "text/plain": [
       "eventId      905096\n",
       "eventName    905096\n",
       "awardName    905095\n",
       "year         905096\n",
       "name         905096\n",
       "isWinner     905096\n",
       "const        905096\n",
       "dtype: int64"
      ]
     },
     "execution_count": 7,
     "metadata": {},
     "output_type": "execute_result"
    }
   ],
   "source": [
    "# how many records do we have\n",
    "df_titles.count()"
   ]
  },
  {
   "cell_type": "code",
   "execution_count": 8,
   "metadata": {},
   "outputs": [
    {
     "data": {
      "text/plain": [
       "eventId      1247606\n",
       "eventName    1247606\n",
       "awardName    1247604\n",
       "year         1247606\n",
       "name         1247606\n",
       "isWinner     1247606\n",
       "const        1247606\n",
       "dtype: int64"
      ]
     },
     "execution_count": 8,
     "metadata": {},
     "output_type": "execute_result"
    }
   ],
   "source": [
    "# how many records do we have\n",
    "df_names.count()"
   ]
  },
  {
   "cell_type": "code",
   "execution_count": 9,
   "metadata": {},
   "outputs": [],
   "source": [
    "# save final dataframe to a csv file\n",
    "df_titles.to_csv(resources_folder + 'movie_Awards.csv', index=False)\n",
    "df_names.to_csv(resources_folder + 'actor_Awards.csv', index=False)"
   ]
  },
  {
   "cell_type": "code",
   "execution_count": null,
   "metadata": {},
   "outputs": [],
   "source": [
    "#separated and tested"
   ]
  }
 ],
 "metadata": {
  "interpreter": {
   "hash": "1bdf70f164539eb444895ba321469f2b2fb207bd2df6cb03c398dc8f57ca5ce9"
  },
  "kernelspec": {
   "display_name": "Python 3.9.5 64-bit",
   "name": "python3"
  },
  "language_info": {
   "codemirror_mode": {
    "name": "ipython",
    "version": 3
   },
   "file_extension": ".py",
   "mimetype": "text/x-python",
   "name": "python",
   "nbconvert_exporter": "python",
   "pygments_lexer": "ipython3",
   "version": "3.9.5"
  },
  "orig_nbformat": 4
 },
 "nbformat": 4,
 "nbformat_minor": 2
}
